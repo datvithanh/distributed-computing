{
 "cells": [
  {
   "cell_type": "markdown",
   "metadata": {},
   "source": [
    "# Assignment 8 - Spark RDD & DataFrames"
   ]
  },
  {
   "cell_type": "markdown",
   "metadata": {},
   "source": [
    "## Preparation"
   ]
  },
  {
   "cell_type": "markdown",
   "metadata": {},
   "source": [
    "Check Spark is working"
   ]
  },
  {
   "cell_type": "code",
   "execution_count": 1,
   "metadata": {},
   "outputs": [],
   "source": [
    "sc.applicationId\n",
    "\n",
    "from pyspark.sql.types import *"
   ]
  },
  {
   "cell_type": "markdown",
   "metadata": {},
   "source": [
    "Get dataset"
   ]
  },
  {
   "cell_type": "code",
   "execution_count": 2,
   "metadata": {
    "scrolled": true
   },
   "outputs": [
    {
     "name": "stdout",
     "output_type": "stream",
     "text": [
      "--2020-05-14 07:20:50--  https://raw.githubusercontent.com/jpatokal/openflights/master/data/airports.dat\n",
      "Resolving raw.githubusercontent.com (raw.githubusercontent.com)... 199.232.64.133\n",
      "Connecting to raw.githubusercontent.com (raw.githubusercontent.com)|199.232.64.133|:443... connected.\n",
      "HTTP request sent, awaiting response... 200 OK\n",
      "Length: 1127225 (1.1M) [text/plain]\n",
      "Saving to: ‘airports.dat’\n",
      "\n",
      "airports.dat        100%[===================>]   1.07M  --.-KB/s    in 0.02s   \n",
      "\n",
      "2020-05-14 07:20:51 (60.1 MB/s) - ‘airports.dat’ saved [1127225/1127225]\n",
      "\n",
      "--2020-05-14 07:20:51--  https://raw.githubusercontent.com/jpatokal/openflights/master/data/routes.dat\n",
      "Resolving raw.githubusercontent.com (raw.githubusercontent.com)... 199.232.64.133\n",
      "Connecting to raw.githubusercontent.com (raw.githubusercontent.com)|199.232.64.133|:443... connected.\n",
      "HTTP request sent, awaiting response... 200 OK\n",
      "Length: 2377148 (2.3M) [text/plain]\n",
      "Saving to: ‘routes.dat’\n",
      "\n",
      "routes.dat          100%[===================>]   2.27M  --.-KB/s    in 0.03s   \n",
      "\n",
      "2020-05-14 07:20:51 (76.8 MB/s) - ‘routes.dat’ saved [2377148/2377148]\n",
      "\n"
     ]
    }
   ],
   "source": [
    "!rm airports.dat*\n",
    "!rm routes.dat*\n",
    "!wget https://raw.githubusercontent.com/jpatokal/openflights/master/data/airports.dat\n",
    "!wget https://raw.githubusercontent.com/jpatokal/openflights/master/data/routes.dat\n",
    "!sed -i 's/\\\\\\N//g' routes.dat\n",
    "!sed -i 's/\\\\\\N//g' airports.dat"
   ]
  },
  {
   "cell_type": "markdown",
   "metadata": {},
   "source": [
    "## Excercise 1"
   ]
  },
  {
   "cell_type": "code",
   "execution_count": 3,
   "metadata": {},
   "outputs": [],
   "source": [
    "airports_schema=StructType([\n",
    "    StructField('AirportID', IntegerType(), False),\n",
    "    StructField('Name', StringType(), False),\n",
    "    StructField('City', StringType(), True),\n",
    "    StructField('Country', StringType(), False),\n",
    "    StructField('IATA', StringType(), True),\n",
    "    StructField('ICAO', StringType(), True),\n",
    "    StructField('Latitude', DecimalType(), False),\n",
    "    StructField('Longtitude', DecimalType(), False),\n",
    "    StructField('Altitude', IntegerType(), False),\n",
    "    StructField('Timezone', IntegerType(), False),\n",
    "    StructField('DST', StringType(), True),\n",
    "    StructField('TzDatabaseTimezone', StringType(), True),\n",
    "    StructField('Type', StringType(), True),\n",
    "    StructField('Source', StringType(), True),\n",
    "])"
   ]
  },
  {
   "cell_type": "code",
   "execution_count": 4,
   "metadata": {},
   "outputs": [],
   "source": [
    "df=sqlContext.read.format('csv').schema(airports_schema).load(\"airports.dat\")"
   ]
  },
  {
   "cell_type": "code",
   "execution_count": 5,
   "metadata": {},
   "outputs": [
    {
     "data": {
      "text/plain": [
       "7698"
      ]
     },
     "execution_count": 5,
     "metadata": {},
     "output_type": "execute_result"
    }
   ],
   "source": [
    "df.count()"
   ]
  },
  {
   "cell_type": "code",
   "execution_count": 6,
   "metadata": {},
   "outputs": [
    {
     "data": {
      "text/plain": [
       "[Row(AirportID=1, Name=u'Goroka Airport', City=u'Goroka', Country=u'Papua New Guinea', IATA=u'GKA', ICAO=u'AYGA', Latitude=Decimal('-6'), Longtitude=Decimal('145'), Altitude=5282, Timezone=10, DST=u'U', TzDatabaseTimezone=u'Pacific/Port_Moresby', Type=u'airport', Source=u'OurAirports'),\n",
       " Row(AirportID=2, Name=u'Madang Airport', City=u'Madang', Country=u'Papua New Guinea', IATA=u'MAG', ICAO=u'AYMD', Latitude=Decimal('-5'), Longtitude=Decimal('146'), Altitude=20, Timezone=10, DST=u'U', TzDatabaseTimezone=u'Pacific/Port_Moresby', Type=u'airport', Source=u'OurAirports'),\n",
       " Row(AirportID=3, Name=u'Mount Hagen Kagamuga Airport', City=u'Mount Hagen', Country=u'Papua New Guinea', IATA=u'HGU', ICAO=u'AYMH', Latitude=Decimal('-6'), Longtitude=Decimal('144'), Altitude=5388, Timezone=10, DST=u'U', TzDatabaseTimezone=u'Pacific/Port_Moresby', Type=u'airport', Source=u'OurAirports'),\n",
       " Row(AirportID=4, Name=u'Nadzab Airport', City=u'Nadzab', Country=u'Papua New Guinea', IATA=u'LAE', ICAO=u'AYNZ', Latitude=Decimal('-7'), Longtitude=Decimal('147'), Altitude=239, Timezone=10, DST=u'U', TzDatabaseTimezone=u'Pacific/Port_Moresby', Type=u'airport', Source=u'OurAirports'),\n",
       " Row(AirportID=5, Name=u'Port Moresby Jacksons International Airport', City=u'Port Moresby', Country=u'Papua New Guinea', IATA=u'POM', ICAO=u'AYPY', Latitude=Decimal('-9'), Longtitude=Decimal('147'), Altitude=146, Timezone=10, DST=u'U', TzDatabaseTimezone=u'Pacific/Port_Moresby', Type=u'airport', Source=u'OurAirports'),\n",
       " Row(AirportID=6, Name=u'Wewak International Airport', City=u'Wewak', Country=u'Papua New Guinea', IATA=u'WWK', ICAO=u'AYWK', Latitude=Decimal('-4'), Longtitude=Decimal('144'), Altitude=19, Timezone=10, DST=u'U', TzDatabaseTimezone=u'Pacific/Port_Moresby', Type=u'airport', Source=u'OurAirports'),\n",
       " Row(AirportID=5419, Name=u'Buka Airport', City=u'Buka Island', Country=u'Papua New Guinea', IATA=u'BUA', ICAO=u'AYBK', Latitude=Decimal('-5'), Longtitude=Decimal('155'), Altitude=11, Timezone=10, DST=u'U', TzDatabaseTimezone=u'Pacific/Port_Moresby', Type=u'airport', Source=u'OurAirports'),\n",
       " Row(AirportID=5420, Name=u'Chimbu Airport', City=u'Kundiawa', Country=u'Papua New Guinea', IATA=u'CMU', ICAO=u'AYCH', Latitude=Decimal('-6'), Longtitude=Decimal('145'), Altitude=4974, Timezone=10, DST=u'U', TzDatabaseTimezone=u'Pacific/Port_Moresby', Type=u'airport', Source=u'OurAirports'),\n",
       " Row(AirportID=5421, Name=u'Daru Airport', City=u'Daru', Country=u'Papua New Guinea', IATA=u'DAU', ICAO=u'AYDU', Latitude=Decimal('-9'), Longtitude=Decimal('143'), Altitude=20, Timezone=10, DST=u'U', TzDatabaseTimezone=u'Pacific/Port_Moresby', Type=u'airport', Source=u'OurAirports'),\n",
       " Row(AirportID=5422, Name=u'Gurney Airport', City=u'Gurney', Country=u'Papua New Guinea', IATA=u'GUR', ICAO=u'AYGN', Latitude=Decimal('-10'), Longtitude=Decimal('150'), Altitude=88, Timezone=10, DST=u'U', TzDatabaseTimezone=u'Pacific/Port_Moresby', Type=u'airport', Source=u'OurAirports'),\n",
       " Row(AirportID=5423, Name=u'Girua Airport', City=u'Girua', Country=u'Papua New Guinea', IATA=u'PNP', ICAO=u'AYGR', Latitude=Decimal('-9'), Longtitude=Decimal('148'), Altitude=311, Timezone=10, DST=u'U', TzDatabaseTimezone=u'Pacific/Port_Moresby', Type=u'airport', Source=u'OurAirports'),\n",
       " Row(AirportID=5424, Name=u'Kimbe Airport', City=u'Hoskins', Country=u'Papua New Guinea', IATA=u'HKN', ICAO=u'AYHK', Latitude=Decimal('-5'), Longtitude=Decimal('150'), Altitude=66, Timezone=10, DST=u'U', TzDatabaseTimezone=u'Pacific/Port_Moresby', Type=u'airport', Source=u'OurAirports'),\n",
       " Row(AirportID=5425, Name=u'Kiunga Airport', City=u'Kiunga', Country=u'Papua New Guinea', IATA=u'UNG', ICAO=u'AYKI', Latitude=Decimal('-6'), Longtitude=Decimal('141'), Altitude=88, Timezone=10, DST=u'U', TzDatabaseTimezone=u'Pacific/Port_Moresby', Type=u'airport', Source=u'OurAirports'),\n",
       " Row(AirportID=5426, Name=u'Kikori Airport', City=u'Kikori', Country=u'Papua New Guinea', IATA=u'KRI', ICAO=u'AYKK', Latitude=Decimal('-7'), Longtitude=Decimal('144'), Altitude=50, Timezone=10, DST=u'U', TzDatabaseTimezone=u'Pacific/Port_Moresby', Type=u'airport', Source=u'OurAirports'),\n",
       " Row(AirportID=5427, Name=u'Kerema Airport', City=u'Kerema', Country=u'Papua New Guinea', IATA=u'KMA', ICAO=u'AYKM', Latitude=Decimal('-8'), Longtitude=Decimal('146'), Altitude=10, Timezone=10, DST=u'U', TzDatabaseTimezone=u'Pacific/Port_Moresby', Type=u'airport', Source=u'OurAirports'),\n",
       " Row(AirportID=5428, Name=u'Kavieng Airport', City=u'Kavieng', Country=u'Papua New Guinea', IATA=u'KVG', ICAO=u'AYKV', Latitude=Decimal('-3'), Longtitude=Decimal('151'), Altitude=7, Timezone=10, DST=u'U', TzDatabaseTimezone=u'Pacific/Port_Moresby', Type=u'airport', Source=u'OurAirports'),\n",
       " Row(AirportID=5429, Name=u'Mendi Airport', City=u'Mendi', Country=u'Papua New Guinea', IATA=u'MDU', ICAO=u'AYMN', Latitude=Decimal('-6'), Longtitude=Decimal('144'), Altitude=5680, Timezone=10, DST=u'U', TzDatabaseTimezone=u'Pacific/Port_Moresby', Type=u'airport', Source=u'OurAirports'),\n",
       " Row(AirportID=5430, Name=u'Momote Airport', City=u'Momote', Country=u'Papua New Guinea', IATA=u'MAS', ICAO=u'AYMO', Latitude=Decimal('-2'), Longtitude=Decimal('147'), Altitude=12, Timezone=10, DST=u'U', TzDatabaseTimezone=u'Pacific/Port_Moresby', Type=u'airport', Source=u'OurAirports'),\n",
       " Row(AirportID=5431, Name=u'Moro Airport', City=u'Moro', Country=u'Papua New Guinea', IATA=u'MXH', ICAO=u'AYMR', Latitude=Decimal('-6'), Longtitude=Decimal('143'), Altitude=2740, Timezone=10, DST=u'U', TzDatabaseTimezone=u'Pacific/Port_Moresby', Type=u'airport', Source=u'OurAirports'),\n",
       " Row(AirportID=5432, Name=u'Misima Island Airport', City=u'Misima Island', Country=u'Papua New Guinea', IATA=u'MIS', ICAO=u'AYMS', Latitude=Decimal('-11'), Longtitude=Decimal('153'), Altitude=26, Timezone=10, DST=u'U', TzDatabaseTimezone=u'Pacific/Port_Moresby', Type=u'airport', Source=u'OurAirports'),\n",
       " Row(AirportID=5433, Name=u'Tari Airport', City=u'Tari', Country=u'Papua New Guinea', IATA=u'TIZ', ICAO=u'AYTA', Latitude=Decimal('-6'), Longtitude=Decimal('143'), Altitude=5500, Timezone=10, DST=u'U', TzDatabaseTimezone=u'Pacific/Port_Moresby', Type=u'airport', Source=u'OurAirports'),\n",
       " Row(AirportID=5434, Name=u'Tabubil Airport', City=u'Tabubil', Country=u'Papua New Guinea', IATA=u'TBG', ICAO=u'AYTB', Latitude=Decimal('-5'), Longtitude=Decimal('141'), Altitude=1570, Timezone=10, DST=u'U', TzDatabaseTimezone=u'Pacific/Port_Moresby', Type=u'airport', Source=u'OurAirports'),\n",
       " Row(AirportID=5435, Name=u'Tokua Airport', City=u'Tokua', Country=u'Papua New Guinea', IATA=u'RAB', ICAO=u'AYTK', Latitude=Decimal('-4'), Longtitude=Decimal('152'), Altitude=32, Timezone=10, DST=u'U', TzDatabaseTimezone=u'Pacific/Port_Moresby', Type=u'airport', Source=u'OurAirports'),\n",
       " Row(AirportID=5436, Name=u'Vanimo Airport', City=u'Vanimo', Country=u'Papua New Guinea', IATA=u'VAI', ICAO=u'AYVN', Latitude=Decimal('-3'), Longtitude=Decimal('141'), Altitude=10, Timezone=10, DST=u'U', TzDatabaseTimezone=u'Pacific/Port_Moresby', Type=u'airport', Source=u'OurAirports'),\n",
       " Row(AirportID=5437, Name=u'Wapenamanda Airport', City=u'Wapenamanda', Country=u'Papua New Guinea', IATA=u'WBM', ICAO=u'AYWD', Latitude=Decimal('-6'), Longtitude=Decimal('144'), Altitude=5889, Timezone=10, DST=u'U', TzDatabaseTimezone=u'Pacific/Port_Moresby', Type=u'airport', Source=u'OurAirports'),\n",
       " Row(AirportID=5982, Name=u'Balimo Airport', City=u'Balimo', Country=u'Papua New Guinea', IATA=u'OPU', ICAO=u'AYBM', Latitude=Decimal('-8'), Longtitude=Decimal('143'), Altitude=51, Timezone=10, DST=u'U', TzDatabaseTimezone=u'Pacific/Port_Moresby', Type=u'airport', Source=u'OurAirports'),\n",
       " Row(AirportID=5986, Name=u'Baimuru Airport', City=u'Baimuru', Country=u'Papua New Guinea', IATA=u'VMU', ICAO=u'AYBA', Latitude=Decimal('-7'), Longtitude=Decimal('145'), Altitude=27, Timezone=10, DST=u'U', TzDatabaseTimezone=u'Pacific/Port_Moresby', Type=u'airport', Source=u'OurAirports'),\n",
       " Row(AirportID=11018, Name=u'Efogi Airport', City=u'Efogi', Country=u'Papua New Guinea', IATA=u'EFG', ICAO=u'AYEF', Latitude=Decimal('-9'), Longtitude=Decimal('148'), Altitude=3900, Timezone=10, DST=u'N', TzDatabaseTimezone=None, Type=u'airport', Source=u'OurAirports'),\n",
       " Row(AirportID=11019, Name=u'Kagi Airport', City=u'Kagi', Country=u'Papua New Guinea', IATA=u'KGW', ICAO=u'AYKQ', Latitude=Decimal('-9'), Longtitude=Decimal('148'), Altitude=4200, Timezone=10, DST=u'N', TzDatabaseTimezone=None, Type=u'airport', Source=u'OurAirports'),\n",
       " Row(AirportID=11020, Name=u'Nadunumu Airport', City=u'Nadunumu', Country=u'Papua New Guinea', IATA=u'NDN', ICAO=u'AYNC', Latitude=Decimal('-9'), Longtitude=Decimal('148'), Altitude=5100, Timezone=10, DST=u'N', TzDatabaseTimezone=None, Type=u'airport', Source=u'OurAirports'),\n",
       " Row(AirportID=11021, Name=u'Bodinumu Airport', City=u'Bodinumu', Country=u'Papua New Guinea', IATA=u'BNM', ICAO=u'AYBD', Latitude=Decimal('-9'), Longtitude=Decimal('148'), Altitude=3700, Timezone=10, DST=u'N', TzDatabaseTimezone=None, Type=u'airport', Source=u'OurAirports'),\n",
       " Row(AirportID=11355, Name=u'Kaintiba Airport', City=u'Kieta', Country=u'Papua New Guinea', IATA=u'KZF', ICAO=u'AYKT', Latitude=Decimal('-8'), Longtitude=Decimal('146'), Altitude=2050, Timezone=10, DST=u'U', TzDatabaseTimezone=None, Type=u'airport', Source=u'OurAirports'),\n",
       " Row(AirportID=12945, Name=u'Simberi Airport', City=u'Simberi Island', Country=u'Papua New Guinea', IATA=u'NIS', ICAO=u'AYSE', Latitude=Decimal('-3'), Longtitude=Decimal('152'), Altitude=10, Timezone=10, DST=u'N', TzDatabaseTimezone=None, Type=u'airport', Source=u'OurAirports'),\n",
       " Row(AirportID=12946, Name=u'Bulolo Airport', City=u'Bulolo', Country=u'Papua New Guinea', IATA=u'BUL', ICAO=u'AYBU', Latitude=Decimal('-7'), Longtitude=Decimal('147'), Altitude=2240, Timezone=10, DST=u'N', TzDatabaseTimezone=None, Type=u'airport', Source=u'OurAirports'),\n",
       " Row(AirportID=13631, Name=u'Sasereme Airport', City=u'Sasereme', Country=u'Papua New Guinea', IATA=u'TDS', ICAO=u'AYSS', Latitude=Decimal('-8'), Longtitude=Decimal('143'), Altitude=121, Timezone=10, DST=u'N', TzDatabaseTimezone=None, Type=u'airport', Source=u'OurAirports')]"
      ]
     },
     "execution_count": 6,
     "metadata": {},
     "output_type": "execute_result"
    }
   ],
   "source": [
    "df.filter(df['Country']=='Papua New Guinea').collect()"
   ]
  },
  {
   "cell_type": "code",
   "execution_count": 7,
   "metadata": {},
   "outputs": [
    {
     "name": "stdout",
     "output_type": "stream",
     "text": [
      "+--------------+-----+\n",
      "|       Country|count|\n",
      "+--------------+-----+\n",
      "| United States| 1512|\n",
      "|        Canada|  430|\n",
      "|     Australia|  334|\n",
      "|        Brazil|  264|\n",
      "|        Russia|  264|\n",
      "|       Germany|  249|\n",
      "|         China|  241|\n",
      "|        France|  217|\n",
      "|United Kingdom|  167|\n",
      "|         India|  148|\n",
      "|     Indonesia|  145|\n",
      "|         Japan|  123|\n",
      "|  South Africa|   99|\n",
      "|     Argentina|   96|\n",
      "|        Mexico|   84|\n",
      "|         Italy|   83|\n",
      "|          Iran|   82|\n",
      "|        Sweden|   77|\n",
      "|        Turkey|   76|\n",
      "|      Colombia|   75|\n",
      "+--------------+-----+\n",
      "only showing top 20 rows\n",
      "\n"
     ]
    }
   ],
   "source": [
    "df.groupBy(df['Country']).count().sort('count',ascending=False).show()"
   ]
  },
  {
   "cell_type": "markdown",
   "metadata": {},
   "source": [
    "## Excercise 2"
   ]
  },
  {
   "cell_type": "code",
   "execution_count": 8,
   "metadata": {},
   "outputs": [],
   "source": [
    "routes_schema=StructType([\n",
    "    StructField('Airline', StringType(), False),\n",
    "    StructField('AirplaneID', IntegerType(), True),\n",
    "    StructField('SourceAirport', StringType(), False),\n",
    "    StructField('SourceAirportID', IntegerType(), True),\n",
    "    StructField('DestinationAirport', StringType(), False),\n",
    "    StructField('DestinationAirportID', IntegerType(), True),\n",
    "    StructField('Codeshare', StringType(), True),\n",
    "    StructField('Stops', IntegerType(), True),\n",
    "    StructField('Equipment', StringType(), False),\n",
    "])"
   ]
  },
  {
   "cell_type": "code",
   "execution_count": 9,
   "metadata": {},
   "outputs": [],
   "source": [
    "df2=sqlContext.read.format('csv').schema(routes_schema).load(\"routes.dat\")"
   ]
  },
  {
   "cell_type": "code",
   "execution_count": 12,
   "metadata": {},
   "outputs": [],
   "source": [
    "df3=df2.join(df, df['AirportID']==df2['SourceAirportID'])"
   ]
  },
  {
   "cell_type": "code",
   "execution_count": 13,
   "metadata": {},
   "outputs": [
    {
     "name": "stdout",
     "output_type": "stream",
     "text": [
      "+--------------------+-----+\n",
      "|             Country|count|\n",
      "+--------------------+-----+\n",
      "|       United States|13100|\n",
      "|               China| 8212|\n",
      "|      United Kingdom| 2663|\n",
      "|               Spain| 2531|\n",
      "|             Germany| 2352|\n",
      "|              France| 1930|\n",
      "|              Canada| 1848|\n",
      "|              Russia| 1829|\n",
      "|               Italy| 1776|\n",
      "|               India| 1433|\n",
      "|              Brazil| 1393|\n",
      "|               Japan| 1286|\n",
      "|           Australia| 1113|\n",
      "|              Mexico| 1060|\n",
      "|              Turkey|  977|\n",
      "|           Indonesia|  834|\n",
      "|              Greece|  787|\n",
      "|United Arab Emirates|  751|\n",
      "|              Norway|  646|\n",
      "|            Thailand|  605|\n",
      "+--------------------+-----+\n",
      "only showing top 20 rows\n",
      "\n"
     ]
    }
   ],
   "source": [
    "df3.groupBy(df3['Country']).count().sort('count',ascending=False).show()"
   ]
  },
  {
   "cell_type": "markdown",
   "metadata": {},
   "source": [
    "!~/assignment6_ex1.sh\n",
    "!~/assignment6_ex2.sh"
   ]
  },
  {
   "cell_type": "markdown",
   "metadata": {},
   "source": [
    "!~/start-spark.sh"
   ]
  }
 ],
 "metadata": {
  "kernelspec": {
   "display_name": "Python 2",
   "language": "python",
   "name": "python2"
  },
  "language_info": {
   "codemirror_mode": {
    "name": "ipython",
    "version": 2
   },
   "file_extension": ".py",
   "mimetype": "text/x-python",
   "name": "python",
   "nbconvert_exporter": "python",
   "pygments_lexer": "ipython2",
   "version": "2.7.17"
  }
 },
 "nbformat": 4,
 "nbformat_minor": 4
}
